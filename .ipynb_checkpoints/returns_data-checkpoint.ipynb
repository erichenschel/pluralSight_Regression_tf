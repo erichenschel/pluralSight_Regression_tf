{
 "cells": [
  {
   "cell_type": "code",
   "execution_count": 10,
   "metadata": {},
   "outputs": [],
   "source": [
    "import pandas as pd\n",
    "import numpy as np"
   ]
  },
  {
   "cell_type": "code",
   "execution_count": 11,
   "metadata": {},
   "outputs": [],
   "source": [
    "def read_goog_sp500_data():\n",
    "    \n",
    "    googFile = '/home/erich/Downloads/datasets/FinAssets/GOOG.csv'\n",
    "    spFile = '/home/erich/Downloads/datasets/FinAssets/SP500.csv'\n",
    "    \n",
    "    goog = pd.read_csv(googFile, sep=\",\", usecols=[0, 5], names=['Date', 'Goog'], header=0)\n",
    "    sp = pd.read_csv(googFile, sep=\",\", usecols=[0, 5], names=['Date', 'SP500'], header=0)\n",
    "    \n",
    "    goog['SP500'] = sp['SP500']\n",
    "    \n",
    "    # The date object is a string, format it as a date\n",
    "    goog['Date'] = pd.to_datetime(goog['Date'], format='%Y-%m-%d')\n",
    "    \n",
    "    goog = goog.sort_values(['Date'], ascending=[True])\n",
    "    \n",
    "    returns = goog[[key for key in dict(goog.dtypes) if dict(goog.dtypes)[key] in ['float64', 'int64']]]\\\n",
    "                .pct_change()\n",
    "    \n",
    "    xData = np.array(returns[\"SP500\"])[1:]\n",
    "    yData = np.array(returns[\"Goog\"])[1:]\n",
    "    \n",
    "    return (xData, yData)"
   ]
  },
  {
   "cell_type": "code",
   "execution_count": 12,
   "metadata": {},
   "outputs": [],
   "source": [
    "from sklearn import datasets, linear_model"
   ]
  },
  {
   "cell_type": "code",
   "execution_count": 13,
   "metadata": {},
   "outputs": [],
   "source": [
    "xData, yData = read_goog_sp500_data()"
   ]
  },
  {
   "cell_type": "code",
   "execution_count": 14,
   "metadata": {},
   "outputs": [
    {
     "name": "stdout",
     "output_type": "stream",
     "text": [
      "[[1.]]\n",
      "[0.]\n"
     ]
    }
   ],
   "source": [
    "googModel = linear_model.LinearRegression()\n",
    "\n",
    "googModel.fit(xData.reshape(-1, 1), yData.reshape(-1, 1))\n",
    "\n",
    "print(googModel.coef_)\n",
    "print(googModel.intercept_)"
   ]
  },
  {
   "cell_type": "code",
   "execution_count": null,
   "metadata": {},
   "outputs": [],
   "source": []
  }
 ],
 "metadata": {
  "kernelspec": {
   "display_name": "Python 3",
   "language": "python",
   "name": "python3"
  },
  "language_info": {
   "codemirror_mode": {
    "name": "ipython",
    "version": 3
   },
   "file_extension": ".py",
   "mimetype": "text/x-python",
   "name": "python",
   "nbconvert_exporter": "python",
   "pygments_lexer": "ipython3",
   "version": "3.7.7"
  }
 },
 "nbformat": 4,
 "nbformat_minor": 4
}
